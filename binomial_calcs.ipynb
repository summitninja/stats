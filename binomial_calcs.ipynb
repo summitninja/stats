{
 "cells": [
  {
   "cell_type": "markdown",
   "metadata": {},
   "source": [
    "Use these calculators to solve binomial problems"
   ]
  },
  {
   "cell_type": "code",
   "execution_count": 2,
   "metadata": {},
   "outputs": [],
   "source": [
    "# required imports\n",
    "import scipy.stats as st\n",
    "import numpy as np"
   ]
  },
  {
   "cell_type": "code",
   "execution_count": 7,
   "metadata": {},
   "outputs": [
    {
     "name": "stdout",
     "output_type": "stream",
     "text": [
      "Probability of input happening is 0.23837427\n"
     ]
    }
   ],
   "source": [
    "# single binomial percent \n",
    "\n",
    "n = 12 # sample size\n",
    "\n",
    "p = .67 # probability of pass\n",
    "\n",
    "x = 8 # samples that passed\n",
    "\n",
    "round_to = 8\n",
    "\n",
    "# calculate\n",
    "value = st.binom.pmf(x,n,p)\n",
    "# print data\n",
    "print(f\"Probability of input happening is {round(value,round_to)}\")"
   ]
  },
  {
   "cell_type": "code",
   "execution_count": 10,
   "metadata": {},
   "outputs": [
    {
     "name": "stdout",
     "output_type": "stream",
     "text": [
      "5 samples submited\n",
      "1 passed | 4 failed\n",
      "run # | pass(1)/fail(0) | cumulative probability\n",
      "#0 | 0| 0.9\n",
      "#1 | 0| 0.7290000000000001\n",
      "#2 | 0| 0.5314410000000002\n",
      "#3 | 0| 0.3486784401000001\n",
      "#4 | 1| 0.11438396227480502\n"
     ]
    }
   ],
   "source": [
    "# ordered pattern binomial chart generator\n",
    "# test an ordered pattern of pass fails and combines values\n",
    "\n",
    "\n",
    "p = .1 # probability of pass\n",
    "\n",
    "# a string of 0(meaning fail) and 1(meaning pass)\n",
    "x = \"00001\"\n",
    "\n",
    "# Calculate\n",
    "n = len(x) # number of samples\n",
    "passed=x.count(\"1\")\n",
    "failed=x.count(\"0\")\n",
    "# set place holder value\n",
    "_total = np.double(0)\n",
    "# Print data\n",
    "print(f\"{n} samples submited\")\n",
    "print(f\"{passed} passed | {failed} failed\")\n",
    "print(\"run # | pass(1)/fail(0) | cumulative probability\")\n",
    "for i in range(len(x)):\n",
    "    _p = st.binom.pmf(int(x[i]),i+1,p) # probability of getting \n",
    "    if i == 0:\n",
    "        _total = _p\n",
    "    else:\n",
    "        _total = _total * _p\n",
    "    print(f\"#{i} | {x[i]}| {_total}\")"
   ]
  },
  {
   "cell_type": "code",
   "execution_count": 17,
   "metadata": {},
   "outputs": [
    {
     "name": "stdout",
     "output_type": "stream",
     "text": [
      "# of passes out of # of samples | prob of this value passing | Accumulative of past probs \n",
      "8 out of 12 | 0.23837427218664642 | 0.23837427218664642\n",
      "9 out of 12 | 0.21509866985192336 | 0.4534729420385698\n",
      "10 out of 12 | 0.13101464436435328 | 0.5844875864029231\n",
      "11 out of 12 | 0.0483635326303674 | 0.6328511190332905\n",
      "12 out of 12 | 0.008182718904632864 | 0.6410338379379233\n"
     ]
    }
   ],
   "source": [
    "# ranged binomial chart generator\n",
    "\n",
    "n = 12 # total samples\n",
    "\n",
    "p = .67 # probability of pass\n",
    "\n",
    "# The range that will be checked\n",
    "_lower = 8\n",
    "_upper = 12\n",
    "\n",
    "round_to = 4 \n",
    "\n",
    "# calculate\n",
    "\n",
    "_total = np.double(0)\n",
    "print(\"# of passes out of # of samples | prob of this value passing | Accumulative of past probs \")\n",
    "for i in range(_lower,_upper+1):\n",
    "    _p = st.binom.pmf(i,n,p)\n",
    "    _total += _p\n",
    "    print(f\"{i} out of {n} | {_p} | {_total}\")"
   ]
  },
  {
   "cell_type": "code",
   "execution_count": null,
   "metadata": {},
   "outputs": [],
   "source": []
  }
 ],
 "metadata": {
  "kernelspec": {
   "display_name": "Python 3.10.7 64-bit",
   "language": "python",
   "name": "python3"
  },
  "language_info": {
   "codemirror_mode": {
    "name": "ipython",
    "version": 3
   },
   "file_extension": ".py",
   "mimetype": "text/x-python",
   "name": "python",
   "nbconvert_exporter": "python",
   "pygments_lexer": "ipython3",
   "version": "3.10.7"
  },
  "orig_nbformat": 4,
  "vscode": {
   "interpreter": {
    "hash": "aee8b7b246df8f9039afb4144a1f6fd8d2ca17a180786b69acc140d282b71a49"
   }
  }
 },
 "nbformat": 4,
 "nbformat_minor": 2
}
