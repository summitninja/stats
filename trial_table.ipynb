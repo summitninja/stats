{
 "cells": [
  {
   "cell_type": "markdown",
   "metadata": {},
   "source": [
    "Generates a trial table"
   ]
  },
  {
   "cell_type": "code",
   "execution_count": 1,
   "metadata": {
    "vscode": {
     "languageId": "python"
    }
   },
   "outputs": [],
   "source": [
    "# Required imports\n",
    "from fractions import Fraction"
   ]
  },
  {
   "cell_type": "code",
   "execution_count": 3,
   "metadata": {
    "vscode": {
     "languageId": "python"
    }
   },
   "outputs": [
    {
     "name": "stdout",
     "output_type": "stream",
     "text": [
      "--Sample table--\n",
      "Sample 0 : 0.2857142857142857 - 2/7\n",
      "Sample 1 : 0.5714285714285714 - 4/7\n",
      "Sample 2 : 0.14285714285714285 - 1/7\n",
      "Expected : 0.8571428571428571 - 6/7\n"
     ]
    }
   ],
   "source": [
    "# probability distribution chart/trial table\n",
    "t = 7 # Sample count\n",
    "d = 3 # Samples that match criteria\n",
    "\n",
    "# Calculate numbers\n",
    "s0 =((t-d)/t)*(((t-d)-1)/(t-1)) \n",
    "s1 =((d/t)*((t-d)/(t-1)))*2\n",
    "s2 = (d/t)*((d-1)/(t-1))\n",
    "print(f\"--Sample table--\")\n",
    "print(f\"Sample 0 : {s0} - {Fraction(s0).limit_denominator()}\")\n",
    "print(f\"Sample 1 : {s1} - {Fraction(s1).limit_denominator()}\")\n",
    "print(f\"Sample 2 : {s2} - {Fraction(s2).limit_denominator()}\")\n",
    "print(f\"Expected : {(s1*1)+(s2*2)} - {Fraction((s1*1)+(s2*2)).limit_denominator()}\")"
   ]
  }
 ],
 "metadata": {
  "kernelspec": {
   "display_name": "Python 3 (ipykernel)",
   "language": "python",
   "name": "python3"
  },
  "orig_nbformat": 4,
  "vscode": {
   "interpreter": {
    "hash": "aee8b7b246df8f9039afb4144a1f6fd8d2ca17a180786b69acc140d282b71a49"
   }
  }
 },
 "nbformat": 4,
 "nbformat_minor": 2
}
