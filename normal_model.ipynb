{
    "cells": [
        {
            "cell_type": "markdown",
            "metadata": {},
            "source": [
                "Use this to calculate normal model probability equations\n",
                "\n",
                "ALL FUNCTIONS ASSUME BELL DISTRIBUTION"
            ]
        },
        {
            "cell_type": "code",
            "execution_count": 2,
            "metadata": {},
            "outputs": [],
            "source": [
                "# Required imports\n",
                "import scipy.stats as st"
            ]
        },
        {
            "cell_type": "code",
            "execution_count": 6,
            "metadata": {},
            "outputs": [
                {
                    "name": "stdout",
                    "output_type": "stream",
                    "text": [
                        "Percent that falls between given range -0.15506940297561123\n",
                        "---EXTRA---\n",
                        "Upper Zscore: -0.749999999999998 | Lower Zscore: -1.4642857142857124\n",
                        "Percent between - and lower : 0.07155794940125752 | Percent between - and upper : 0.22662735237686876\n"
                    ]
                }
            ],
            "source": [
                "# percent that fall in finite range, need mean and standard deviation values (Assuming bell curve distribution)\n",
                "\n",
                "mean = 69.1\n",
                "sd = 2.8\n",
                "_lower=65\n",
                "_upper=67\n",
                "\n",
                "round_to = 4\n",
                "\n",
                "\n",
                "# calculate\n",
                "\n",
                "# get Zscore of lower and upper \n",
                "z_lower = (_lower-mean)/sd\n",
                "z_upper = (_upper-mean)/sd\n",
                "\n",
                "# Now we use scipy cdf to get probability from the zscore\n",
                "p_lower = st.norm.cdf(z_lower)\n",
                "p_upper = st.norm.cdf(z_upper)\n",
                "\n",
                "# Print out data\n",
                "print(f\"Percent that falls between given range {abs(p_lower-p_upper)}\") # abs removes the negative if it exists as we only care about the distance between the numbers\n",
                "print(\"----------------EXTRA----------------\")\n",
                "print(f\"Upper Zscore: {z_upper} | Lower Zscore: {z_lower}\")\n",
                "print(f\"Percent between - and lower : {p_lower} | Percent between - and upper : {p_upper}\")"
            ]
        },
        {
            "cell_type": "code",
            "execution_count": 15,
            "metadata": {},
            "outputs": [
                {
                    "name": "stdout",
                    "output_type": "stream",
                    "text": [
                        "The top 0.01 would have a raw value of 75.6138\n",
                        "----EXTRA-----\n",
                        "true percent : 0.99\n",
                        "zscore of true_percent : 2.3263478740408408\n",
                        "the raw change was : 6.513774047314354\n"
                    ]
                }
            ],
            "source": [
                "# Get raw number from normal model given a percent\n",
                "\n",
                "mean = 69.1\n",
                "sd = 2.8\n",
                "percent = .01 # decimal percent value\n",
                "is_top_percent = True # set to true if you want to check for top X%, set to false to get bottom\n",
                "\n",
                "round_to=4\n",
                "\n",
                "# calculate\n",
                "\n",
                "# this is set by is_top_percent and used by data output section\n",
                "percent_type = \"\"\n",
                "\n",
                "# check if we are checking the top % or bottom % and convert to true percent\n",
                "if is_top_percent:\n",
                "    true_percent = 1 - percent \n",
                "    percent_type = \"top\"\n",
                "else:\n",
                "    true_percent = percent\n",
                "    percent_type = \"bottom\"\n",
                "\n",
                "# get zscore of percent \n",
                "zscore = st.norm.ppf(true_percent)\n",
                "\n",
                "# multiple sd and zscore to get the raw value change\n",
                "raw_move = zscore*sd\n",
                "\n",
                "\n",
                "# print data\n",
                "print(f\"The {percent_type} {percent} would have a raw value of {round(raw_move+mean, round_to)}\")\n",
                "print(f\"----EXTRA-----\")\n",
                "print(f\"true percent : {true_percent}\")\n",
                "print(f\"zscore of true_percent : {zscore}\")\n",
                "print(f\"the raw change was : {raw_move}\")\n"
            ]
        },
        {
            "cell_type": "code",
            "execution_count": null,
            "metadata": {},
            "outputs": [],
            "source": []
        }
    ],
    "metadata": {
        "kernelspec": {
            "display_name": "Python 3.10.4 64-bit",
            "language": "python",
            "name": "python3"
        },
        "language_info": {
            "codemirror_mode": {
                "name": "ipython",
                "version": 3
            },
            "file_extension": ".py",
            "mimetype": "text/x-python",
            "name": "python",
            "nbconvert_exporter": "python",
            "pygments_lexer": "ipython3",
            "version": "3.10.4"
        },
        "orig_nbformat": 4,
        "vscode": {
            "interpreter": {
                "hash": "916dbcbb3f70747c44a77c7bcd40155683ae19c65e1c03b4aa3499c5328201f1"
            }
        }
    },
    "nbformat": 4,
    "nbformat_minor": 2
}
