{
 "cells": [
  {
   "cell_type": "code",
   "execution_count": 9,
   "metadata": {},
   "outputs": [],
   "source": [
    "import statsmodels.stats.proportion as pt # proportion tests\n",
    "import pandas as pd\n",
    "from io import StringIO\n",
    "import scipy.stats as st"
   ]
  },
  {
   "cell_type": "code",
   "execution_count": 7,
   "metadata": {},
   "outputs": [
    {
     "name": "stdout",
     "output_type": "stream",
     "text": [
      "F value: 0.35666059371985853\n",
      "P value: 0.7036578518757451\n",
      "Means-------\n",
      "g1    65.333333\n",
      "g2    75.111111\n",
      "g3    70.666667\n",
      "dtype: float64\n"
     ]
    }
   ],
   "source": [
    "# Oneway ANOVA TEST\n",
    "data = StringIO(\"\"\"\n",
    "g1\tg2\tg3\n",
    "71\t94\t97\n",
    "69\t83\t84\n",
    "66\t94\t69\n",
    "85\t97\t62\n",
    "62\t99\t74\n",
    "56\t91\t69\n",
    "63\t88\t87\n",
    "57\t15\t79\n",
    "59\t15\t15\n",
    "\n",
    "\n",
    "\"\"\")\n",
    "# calculations\n",
    "df = pd.read_csv(data,sep=\"\t\")\n",
    "df_melt = pd.melt(df.reset_index(), id_vars=['index'], value_vars=['g1', 'g2', 'g3'])\n",
    "fvalue, pvalue = st.f_oneway(df['g1'], df['g2'], df['g3'])\n",
    "print(f\"F value: {fvalue}\\nP value: {pvalue}\\nMeans-------\\n{df.mean()}\")"
   ]
  },
  {
   "cell_type": "code",
   "execution_count": 14,
   "metadata": {},
   "outputs": [
    {
     "name": "stdout",
     "output_type": "stream",
     "text": [
      "Z stat: -0.8164965809277268\n",
      "P value: 0.41421617824252466\n"
     ]
    }
   ],
   "source": [
    "# single prop z-test\n",
    "\n",
    "\n",
    "n = 100 # samples\n",
    "x = 60 # number of successes\n",
    "p = 0.64 # hypothesized %\n",
    "\n",
    "threshold = .05 # .05 is pretty standard\n",
    "\n",
    "# calculations\n",
    "zstat , pvalue =pt.proportions_ztest(count=x,nobs=n,value=p)\n",
    "\n",
    "# print\n",
    "print(f\"Z stat: {zstat}\\nP value: {pvalue}\")\n"
   ]
  },
  {
   "cell_type": "code",
   "execution_count": null,
   "metadata": {},
   "outputs": [],
   "source": []
  }
 ],
 "metadata": {
  "kernelspec": {
   "display_name": "Python 3.10.4 64-bit",
   "language": "python",
   "name": "python3"
  },
  "language_info": {
   "codemirror_mode": {
    "name": "ipython",
    "version": 3
   },
   "file_extension": ".py",
   "mimetype": "text/x-python",
   "name": "python",
   "nbconvert_exporter": "python",
   "pygments_lexer": "ipython3",
   "version": "3.10.4"
  },
  "orig_nbformat": 4,
  "vscode": {
   "interpreter": {
    "hash": "916dbcbb3f70747c44a77c7bcd40155683ae19c65e1c03b4aa3499c5328201f1"
   }
  }
 },
 "nbformat": 4,
 "nbformat_minor": 2
}
