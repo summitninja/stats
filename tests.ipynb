{
 "cells": [
  {
   "cell_type": "code",
   "execution_count": 16,
   "metadata": {},
   "outputs": [],
   "source": [
    "import statsmodels.stats as pt # proportion tests\n",
    "import pandas as pd\n",
    "from io import StringIO\n",
    "import scipy.stats as st"
   ]
  },
  {
   "cell_type": "code",
   "execution_count": 15,
   "metadata": {},
   "outputs": [
    {
     "name": "stdout",
     "output_type": "stream",
     "text": [
      "F value: 3.441\n",
      "P value: 0.0485\n",
      "Means-------\n",
      "g1    53.644444\n",
      "g2    42.500000\n",
      "g3    52.377778\n",
      "dtype: float64\n"
     ]
    }
   ],
   "source": [
    "# Oneway ANOVA TEST\n",
    "data = StringIO(\"\"\"\n",
    "g1\tg2\tg3\n",
    "47.1\t44.4\t54.5\n",
    "50.2\t63.7\t55.1\n",
    "60.8\t21.4\t61.1\n",
    "58.8\t37.2\t43.7\n",
    "55.1\t60.1\t47.4\n",
    "48.2\t24\t51.9\n",
    "42.1\t45.4\t58.6\n",
    "64.5\t48.2\t53.7\n",
    "56\t38.1\t45.4\n",
    "\n",
    "\n",
    "\"\"\")\n",
    "round_to = 4\n",
    "# calculations\n",
    "df = pd.read_csv(data,sep=\"\t\")\n",
    "df_melt = pd.melt(df.reset_index(), id_vars=['index'], value_vars=['g1', 'g2', 'g3'])\n",
    "fvalue, pvalue = st.f_oneway(df['g1'], df['g2'], df['g3'])\n",
    "print(f\"F value: {round(fvalue,round_to)}\\nP value: {round(pvalue,round_to)}\\nMeans-------\\n{df.mean()}\")"
   ]
  },
  {
   "cell_type": "code",
   "execution_count": 14,
   "metadata": {},
   "outputs": [
    {
     "name": "stdout",
     "output_type": "stream",
     "text": [
      "Z stat: -0.8164965809277268\n",
      "P value: 0.41421617824252466\n"
     ]
    }
   ],
   "source": [
    "# single prop z-test\n",
    "\n",
    "\n",
    "n = 100 # samples\n",
    "x = 60 # number of successes\n",
    "p = 0.64 # hypothesized %\n",
    "\n",
    "threshold = .05 # .05 is pretty standard\n",
    "\n",
    "# calculations\n",
    "zstat , pvalue =pt.proportion.proportions_ztest(count=x,nobs=n,value=p)\n",
    "\n",
    "# print\n",
    "print(f\"Z stat: {zstat}\\nP value: {pvalue}\")\n"
   ]
  },
  {
   "cell_type": "code",
   "execution_count": 12,
   "metadata": {},
   "outputs": [
    {
     "name": "stdout",
     "output_type": "stream",
     "text": [
      "Z stat: -1.4997757032004513\n",
      "P value: 0.1337\n"
     ]
    }
   ],
   "source": [
    "# two prop z-test\n",
    "\n",
    "\n",
    "n1 = 155\n",
    "x1 = n1*.044 # x needs to be amount that passed\n",
    "\n",
    "n2 = 275\n",
    "x2 = n2*.082\n",
    "\n",
    "round_to = 4\n",
    "\n",
    "# calculate\n",
    "\n",
    "zstat , pvalue = pt.proportion.proportions_ztest(count=[x1,x2],nobs=[n1,n2])\n",
    "# print\n",
    "print(f\"Z stat: {zstat}\\nP value: {round(pvalue,round_to)}\")"
   ]
  }
 ],
 "metadata": {
  "kernelspec": {
   "display_name": "Python 3.10.7 64-bit",
   "language": "python",
   "name": "python3"
  },
  "language_info": {
   "codemirror_mode": {
    "name": "ipython",
    "version": 3
   },
   "file_extension": ".py",
   "mimetype": "text/x-python",
   "name": "python",
   "nbconvert_exporter": "python",
   "pygments_lexer": "ipython3",
   "version": "3.10.7"
  },
  "orig_nbformat": 4,
  "vscode": {
   "interpreter": {
    "hash": "aee8b7b246df8f9039afb4144a1f6fd8d2ca17a180786b69acc140d282b71a49"
   }
  }
 },
 "nbformat": 4,
 "nbformat_minor": 2
}
